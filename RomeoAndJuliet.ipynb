{
 "cells": [
  {
   "cell_type": "code",
   "execution_count": 20,
   "metadata": {},
   "outputs": [
    {
     "name": "stdout",
     "output_type": "stream",
     "text": [
      "Juliet\n",
      "Juliet\n",
      "Juliet\n",
      "Juliet\n",
      "Juliet\n",
      "Juliet\n",
      "Juliet\n",
      "Juliet\n",
      "Juliet\n",
      "Juliet\n",
      "Juliet\n",
      "Juliet\n",
      "Juliet\n",
      "Juliet\n",
      "Juliet\n",
      "Juliet\n",
      "Juliet\n",
      "Juliet\n",
      "Juliet\n",
      "Juliet\n",
      "Juliet\n",
      "Juliet\n",
      "Juliet\n",
      "Juliet\n"
     ]
    }
   ],
   "source": [
    "import random\n",
    "words = open('RomeoandJuliet.txt').read().split()\n",
    "for i in words:\n",
    "    if i == 'Juliet':\n",
    "        print('Juliet')\n",
    "\n",
    "    \n"
   ]
  },
  {
   "cell_type": "code",
   "execution_count": 8,
   "metadata": {},
   "outputs": [
    {
     "name": "stdout",
     "output_type": "stream",
     "text": [
      "[('the', 762), ('I', 549), ('and', 539), ('to', 522), ('of', 485), ('a', 453), ('in', 330), ('is', 322), ('my', 310), ('with', 274), ('that', 264), ('you', 254), ('thou', 228), ('not', 223), ('And', 217), ('be', 208), ('this', 198), ('for', 178), ('me', 177), ('Rom.', 163), ('it', 161), ('thy', 144), ('as', 129), ('will', 128), ('his', 128), ('her', 121), ('Jul.', 117), ('have', 113), ('or', 109), ('but', 101), ('Nurse.', 100), ('your', 98), ('by', 96), ('from', 94), ('all', 93), ('he', 93), ('shall', 92), ('so', 92), ('The', 90), ('thee', 89), ('To', 85), ('are', 80), ('O', 80), ('she', 80), ('Project', 78), ('Enter', 78), ('at', 77), ('no', 77), ('But', 76), ('That', 76), ('do', 76), ('on', 75), ('What', 71), (\"I'll\", 71), ('an', 67), ('O,', 67), ('A', 64), ('Ben.', 64), ('him', 63), ('love', 62), ('Mer.', 62), ('our', 60), ('For', 60), ('what', 58), ('good', 58), ('may', 57), ('if', 57), ('we', 55), ('am', 55), ('Cap.', 53), ('Gutenberg-tm', 53), ('Friar.', 52), ('Romeo', 51), ('hath', 51), ('would', 51), ('My', 49), ('should', 47), ('more', 47), ('their', 46), ('art', 46), ('any', 46), ('must', 46), ('This', 45), ('such', 45), ('they', 43), ('one', 43), ('If', 42), ('some', 42), ('can', 41), ('upon', 40), ('Thou', 40), ('was', 40), ('here', 39), ('It', 39), ('make', 39), ('these', 38), ('which', 38), ('then', 38), ('come', 38), ('when', 38), ('tell', 38), ('than', 38), ('Is', 37), ('up', 37), ('Romeo,', 36), ('In', 35), ('out', 35), ('say', 35), ('As', 35), ('give', 34), ('fair', 34), ('love,', 34), ('now', 34), ('know', 34), ('go', 34), ('too', 34), ('there', 34), ('doth', 34), ('work', 34), ('You', 33), ('them', 33), ('like', 33), ('yet', 32), ('me,', 32), ('take', 31), ('let', 31), ('were', 31), ('how', 31), ('man', 30), ('other', 30), ('did', 30), ('Of', 30), ('By', 29), ('So', 28), ('see', 28), ('much', 28), ('night', 28), ('Where', 27), ('me.', 27), ('you,', 27), ('What,', 27), ('Come,', 27), ('How', 27), ('electronic', 27), ('old', 25), ('death', 25), ('sir,', 25), ('thee,', 25), ('very', 25), ('Juliet', 24), ('Scene', 24), ('With', 24), ('Then', 24), ('where', 23), ('you.', 23), ('Or', 23), ('Which', 23), ('hast', 23), ('She', 23), ('cannot', 23), ('Par.', 23), ('Gutenberg', 22), ('An', 22), ('comes', 22), ('not,', 22), ('works', 22), ('Tybalt,', 21), ('Friar', 21), (\"'tis\", 21), ('sweet', 21), ('Good', 21), ('day', 21), ('wilt', 21), ('heaven', 21), ('dear', 21), ('Tybalt', 21), ('use', 20), ('Romeo.', 20), ('Samp.', 20), (\"'Tis\", 20), ('well', 20), ('been', 20), ('Do', 20), ('Wife.', 20), ('hear', 20), ('He', 20), ('find', 20), ('bid', 20), ('terms', 19), ('Ay,', 19), ('us', 19), ('Here', 19), ('Well,', 19), ('part', 19), ('time', 19), ('We', 19), ('true', 19), ('Go', 19), ('Thy', 19), ('full', 19)]\n"
     ]
    }
   ],
   "source": [
    "from collections import Counter\n",
    "words = open('RomeoandJuliet.txt').read().split()\n",
    "cnt = Counter(words)\n",
    " \n",
    "print(cnt.most_common(200))\n"
   ]
  },
  {
   "cell_type": "code",
   "execution_count": null,
   "metadata": {},
   "outputs": [],
   "source": []
  }
 ],
 "metadata": {
  "kernelspec": {
   "display_name": "Python 3",
   "language": "python",
   "name": "python3"
  },
  "language_info": {
   "codemirror_mode": {
    "name": "ipython",
    "version": 3
   },
   "file_extension": ".py",
   "mimetype": "text/x-python",
   "name": "python",
   "nbconvert_exporter": "python",
   "pygments_lexer": "ipython3",
   "version": "3.7.1"
  }
 },
 "nbformat": 4,
 "nbformat_minor": 2
}
